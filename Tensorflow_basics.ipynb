{
  "nbformat": 4,
  "nbformat_minor": 0,
  "metadata": {
    "colab": {
      "provenance": []
    },
    "kernelspec": {
      "name": "python3",
      "display_name": "Python 3"
    },
    "language_info": {
      "name": "python"
    }
  },
  "cells": [
    {
      "cell_type": "code",
      "source": [
        "%tensorflow_version 2.x"
      ],
      "metadata": {
        "colab": {
          "base_uri": "https://localhost:8080/"
        },
        "id": "AhFp2ellqAz4",
        "outputId": "887fc510-0327-4c17-8c3b-e0b07f996d2f"
      },
      "execution_count": 13,
      "outputs": [
        {
          "output_type": "stream",
          "name": "stdout",
          "text": [
            "Colab only includes TensorFlow 2.x; %tensorflow_version has no effect.\n"
          ]
        }
      ]
    },
    {
      "cell_type": "code",
      "source": [
        "import tensorflow as tf\n",
        "print(tf.version)"
      ],
      "metadata": {
        "colab": {
          "base_uri": "https://localhost:8080/"
        },
        "id": "7buIMkQMqrQf",
        "outputId": "c4264b08-9212-4dff-e6a8-e3f815c97506"
      },
      "execution_count": 18,
      "outputs": [
        {
          "output_type": "stream",
          "name": "stdout",
          "text": [
            "<module 'tensorflow._api.v2.version' from '/usr/local/lib/python3.10/dist-packages/tensorflow/_api/v2/version/__init__.py'>\n"
          ]
        }
      ]
    },
    {
      "cell_type": "code",
      "execution_count": 19,
      "metadata": {
        "colab": {
          "base_uri": "https://localhost:8080/"
        },
        "id": "h296dEXdndqt",
        "outputId": "4eb317bd-6372-4d52-e9ff-0eae865470e8"
      },
      "outputs": [
        {
          "output_type": "stream",
          "name": "stdout",
          "text": [
            "tf.Tensor([1 2 3], shape=(3,), dtype=int32)\n"
          ]
        }
      ],
      "source": [
        "#Create a TensorFlow Constant\n",
        "\n",
        "my_constant = tf.constant([1, 2, 3])\n",
        "\n",
        "print(my_constant)\n"
      ]
    },
    {
      "cell_type": "code",
      "source": [
        "#Perform Element-Wise Operation\n",
        "\n",
        "a = tf.constant([2, 4, 6])\n",
        "b = tf.constant([1, 2, 3])\n",
        "c = tf.multiply(a, b)\n",
        "\n",
        "print(c)\n"
      ],
      "metadata": {
        "colab": {
          "base_uri": "https://localhost:8080/"
        },
        "id": "08aOSjr9nkXE",
        "outputId": "a0bfbdc1-c82e-4cc8-ab6c-1e0bf6a6ebf1"
      },
      "execution_count": 20,
      "outputs": [
        {
          "output_type": "stream",
          "name": "stdout",
          "text": [
            "tf.Tensor([ 2  8 18], shape=(3,), dtype=int32)\n"
          ]
        }
      ]
    },
    {
      "cell_type": "code",
      "source": [
        "#Reshape a Tensor\n",
        "\n",
        "x = tf.constant([1, 2, 3, 4, 5, 6])\n",
        "x_reshaped = tf.reshape(x, shape=(2, 3))\n",
        "\n",
        "print(x_reshaped)\n"
      ],
      "metadata": {
        "colab": {
          "base_uri": "https://localhost:8080/"
        },
        "id": "HGJ8tJm3nqCA",
        "outputId": "b4c7c01b-e5da-4a25-99cf-df6aba222c02"
      },
      "execution_count": 21,
      "outputs": [
        {
          "output_type": "stream",
          "name": "stdout",
          "text": [
            "tf.Tensor(\n",
            "[[1 2 3]\n",
            " [4 5 6]], shape=(2, 3), dtype=int32)\n"
          ]
        }
      ]
    },
    {
      "cell_type": "code",
      "source": [
        "#Extract a Slice: extract the middle column using TensorFlow.\n",
        "\n",
        "matrix = tf.constant([[1, 2, 3], [4, 5, 6], [7, 8, 9]])\n",
        "middle_column = matrix[:, 1]\n",
        "\n",
        "print(middle_column)"
      ],
      "metadata": {
        "colab": {
          "base_uri": "https://localhost:8080/"
        },
        "id": "Diw7acoDnwjK",
        "outputId": "b6aa88c6-492b-4617-8a44-37a6c584fbda"
      },
      "execution_count": 22,
      "outputs": [
        {
          "output_type": "stream",
          "name": "stdout",
          "text": [
            "tf.Tensor([2 5 8], shape=(3,), dtype=int32)\n"
          ]
        }
      ]
    },
    {
      "cell_type": "code",
      "source": [
        "#Variable Initialization:a 3x3 matrix of random values.\n",
        "\n",
        "weights = tf.Variable(tf.random.normal([3, 3]))\n",
        "\n",
        "print(weights)\n"
      ],
      "metadata": {
        "colab": {
          "base_uri": "https://localhost:8080/"
        },
        "id": "dxWR_Ui0n4KS",
        "outputId": "02254b84-9662-41e7-bc97-fbe677244ff0"
      },
      "execution_count": 23,
      "outputs": [
        {
          "output_type": "stream",
          "name": "stdout",
          "text": [
            "<tf.Variable 'Variable:0' shape=(3, 3) dtype=float32, numpy=\n",
            "array([[-0.24441454,  0.52274066, -0.25477964],\n",
            "       [-0.41695136, -0.2614114 , -0.19069499],\n",
            "       [ 0.8897258 ,  0.14569704,  0.29419377]], dtype=float32)>\n"
          ]
        }
      ]
    },
    {
      "cell_type": "code",
      "source": [
        "#Math Operations\n",
        "y = tf.constant([4.0, 9.0, 16.0])\n",
        "square_root = tf.sqrt(y)\n",
        "\n",
        "print(square_root)"
      ],
      "metadata": {
        "colab": {
          "base_uri": "https://localhost:8080/"
        },
        "id": "iRjNQ6hUn_-q",
        "outputId": "b59f2dc6-64ff-43b8-b108-cc356785e38a"
      },
      "execution_count": 31,
      "outputs": [
        {
          "output_type": "stream",
          "name": "stdout",
          "text": [
            "tf.Tensor([2. 3. 4.], shape=(3,), dtype=float32)\n"
          ]
        }
      ]
    }
  ]
}